{
 "cells": [
  {
   "cell_type": "code",
   "execution_count": null,
   "id": "eea974f1-a811-4602-b2fc-e67d1f34e9f4",
   "metadata": {},
   "outputs": [
    {
     "name": "stdout",
     "output_type": "stream",
     "text": [
      "Let's create a storytelling prompt!\n",
      "You can enter 'quit' at any time to exit.\n"
     ]
    }
   ],
   "source": [
    "import random\n",
    "\n",
    "def create_story_prompt():\n",
    "    print(\"Let's create a storytelling prompt!\")\n",
    "    print(\"You can enter 'quit' at any time to exit.\")\n",
    "\n",
    "    characters = []\n",
    "    settings = []\n",
    "    problems = []\n",
    "\n",
    "    while True:\n",
    "        character = input(\"Enter a character for your story: \")\n",
    "        if character.lower() == 'quit':\n",
    "            break\n",
    "        characters.append(character)\n",
    "\n",
    "        setting = input(\"Enter a setting for your story: \")\n",
    "        if setting.lower() == 'quit':\n",
    "            break\n",
    "        settings.append(setting)\n",
    "\n",
    "        problem = input(\"Enter a problem or conflict for your character: \")\n",
    "        if problem.lower() == 'quit':\n",
    "            break\n",
    "        problems.append(problem)\n",
    "\n",
    "        another = input(\"Do you want to add another character and setting to your story? (yes/no) \")\n",
    "        if another.lower() != \"yes\":\n",
    "            break\n",
    "\n",
    "    # Combine the characters, settings, and problems into a list of prompts\n",
    "    prompts = [f\"In the {s}, {c} faces the problem of {p}.\" for c, s, p in zip(characters, settings, problems)]\n",
    "\n",
    "    # Add a random twist to the final prompt\n",
    "    twist = random.choice([\n",
    "        \"Suddenly, a mysterious stranger appears.\",\n",
    "        \"The main character discovers a hidden power within themselves.\",\n",
    "        \"A long-lost friend returns, but with a secret agenda.\",\n",
    "        \"The main character finds an ancient artifact that holds the key to solving their problem.\",\n",
    "        \"A natural disaster strikes, complicating the main character's journey.\"\n",
    "    ])\n",
    "    final_prompt = random.choice(prompts) + \" \" + twist\n",
    "\n",
    "    return final_prompt\n",
    "\n",
    "# Main function to run the program\n",
    "def main():\n",
    "    while True:\n",
    "        prompt = create_story_prompt()\n",
    "        print(\"\\nYour storytelling prompt is:\\n\")\n",
    "        print(prompt)\n",
    "\n",
    "        # Ask if the user wants to create another prompt\n",
    "        another = input(\"\\nDo you want to create another storytelling prompt? (yes/no): \")\n",
    "        if another.lower() != \"yes\":\n",
    "            print(\"Thank you for using the storytelling prompt generator. Goodbye!\")\n",
    "            break\n",
    "\n",
    "if __name__ == \"__main__\":\n",
    "    main()"
   ]
  },
  {
   "cell_type": "code",
   "execution_count": null,
   "id": "89bad8cc-f6bf-4858-93c5-0b71412926da",
   "metadata": {},
   "outputs": [],
   "source": []
  }
 ],
 "metadata": {
  "kernelspec": {
   "display_name": "Python 3 (ipykernel)",
   "language": "python",
   "name": "python3"
  },
  "language_info": {
   "codemirror_mode": {
    "name": "ipython",
    "version": 3
   },
   "file_extension": ".py",
   "mimetype": "text/x-python",
   "name": "python",
   "nbconvert_exporter": "python",
   "pygments_lexer": "ipython3",
   "version": "3.11.7"
  }
 },
 "nbformat": 4,
 "nbformat_minor": 5
}
